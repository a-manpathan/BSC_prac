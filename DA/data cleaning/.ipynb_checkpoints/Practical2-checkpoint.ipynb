{
 "cells": [
  {
   "cell_type": "code",
   "execution_count": 1,
   "metadata": {},
   "outputs": [],
   "source": [
    "import pandas as pd"
   ]
  },
  {
   "cell_type": "code",
   "execution_count": 2,
   "metadata": {},
   "outputs": [
    {
     "name": "stdout",
     "output_type": "stream",
     "text": [
      "        Name  Maths  Chemistry  Physics  Geography\n",
      "0       John     45       60.0      NaN       70.0\n",
      "1       Mary     80       75.0     65.0       90.0\n",
      "2       Jack     85       80.0     90.0        NaN\n",
      "3       Jill     70        NaN     80.0       75.0\n",
      "4       John     45       60.0      NaN       70.0\n",
      "5       Mary     80       75.0     65.0       90.0\n",
      "6       Jack     85       80.0     90.0        NaN\n",
      "7       Jill     70        NaN     80.0       75.0\n",
      "8      Sarah     50       55.0      NaN       80.0\n",
      "9        Sam     60       70.0     75.0       85.0\n",
      "10     David     75       80.0     85.0        NaN\n",
      "11  Samantha     90        NaN     70.0       75.0\n",
      "12     Sarah     50       55.0      NaN       80.0\n",
      "13       Sam     60       70.0     75.0       85.0\n",
      "14     David     75       80.0     85.0        NaN\n",
      "15  Samantha     90        NaN     70.0       75.0\n",
      "16      Alex     55       65.0     75.0       80.0\n",
      "17     Katie     70       75.0     80.0       85.0\n",
      "18      Alex     55       65.0     75.0       80.0\n",
      "19     Katie     70       75.0     80.0       85.0\n"
     ]
    }
   ],
   "source": [
    "data=pd.read_csv('Practical2.csv')\n",
    "print(data)"
   ]
  },
  {
   "cell_type": "markdown",
   "metadata": {},
   "source": [
    "#Drop Column "
   ]
  },
  {
   "cell_type": "code",
   "execution_count": 3,
   "metadata": {},
   "outputs": [
    {
     "name": "stdout",
     "output_type": "stream",
     "text": [
      "        Name  Chemistry  Physics  Geography\n",
      "0       John       60.0      NaN       70.0\n",
      "1       Mary       75.0     65.0       90.0\n",
      "2       Jack       80.0     90.0        NaN\n",
      "3       Jill        NaN     80.0       75.0\n",
      "4       John       60.0      NaN       70.0\n",
      "5       Mary       75.0     65.0       90.0\n",
      "6       Jack       80.0     90.0        NaN\n",
      "7       Jill        NaN     80.0       75.0\n",
      "8      Sarah       55.0      NaN       80.0\n",
      "9        Sam       70.0     75.0       85.0\n",
      "10     David       80.0     85.0        NaN\n",
      "11  Samantha        NaN     70.0       75.0\n",
      "12     Sarah       55.0      NaN       80.0\n",
      "13       Sam       70.0     75.0       85.0\n",
      "14     David       80.0     85.0        NaN\n",
      "15  Samantha        NaN     70.0       75.0\n",
      "16      Alex       65.0     75.0       80.0\n",
      "17     Katie       75.0     80.0       85.0\n",
      "18      Alex       65.0     75.0       80.0\n",
      "19     Katie       75.0     80.0       85.0\n"
     ]
    }
   ],
   "source": [
    "data=data.drop('Maths',axis=1)\n",
    "print(data)"
   ]
  },
  {
   "cell_type": "markdown",
   "metadata": {},
   "source": [
    "#Rename Column"
   ]
  },
  {
   "cell_type": "code",
   "execution_count": 11,
   "metadata": {},
   "outputs": [],
   "source": [
    "data=data.rename(columns={'Geography':'Computer Science'})"
   ]
  },
  {
   "cell_type": "code",
   "execution_count": 12,
   "metadata": {},
   "outputs": [
    {
     "name": "stdout",
     "output_type": "stream",
     "text": [
      "        Name  Maths  Chemistry  Physics  Computer Science\n",
      "0       John     45       60.0     77.5              70.0\n",
      "1       Mary     80       75.0     65.0              90.0\n",
      "2       Jack     85       80.0     90.0              80.0\n",
      "3       Jill     70       70.0     80.0              75.0\n",
      "4       John     45       60.0     77.5              70.0\n",
      "5       Mary     80       75.0     65.0              90.0\n",
      "6       Jack     85       80.0     90.0              80.0\n",
      "7       Jill     70       70.0     80.0              75.0\n",
      "8      Sarah     50       55.0     77.5              80.0\n",
      "9        Sam     60       70.0     75.0              85.0\n",
      "10     David     75       80.0     85.0              80.0\n",
      "11  Samantha     90       70.0     70.0              75.0\n",
      "12     Sarah     50       55.0     77.5              80.0\n",
      "13       Sam     60       70.0     75.0              85.0\n",
      "14     David     75       80.0     85.0              80.0\n",
      "15  Samantha     90       70.0     70.0              75.0\n",
      "16      Alex     55       65.0     75.0              80.0\n",
      "17     Katie     70       75.0     80.0              85.0\n",
      "18      Alex     55       65.0     75.0              80.0\n",
      "19     Katie     70       75.0     80.0              85.0\n"
     ]
    }
   ],
   "source": [
    "print(data)"
   ]
  },
  {
   "cell_type": "markdown",
   "metadata": {},
   "source": [
    "#Drop Duplicate Rows"
   ]
  },
  {
   "cell_type": "code",
   "execution_count": 6,
   "metadata": {},
   "outputs": [
    {
     "name": "stdout",
     "output_type": "stream",
     "text": [
      "        Name  Chemistry  Physics  Computer Science\n",
      "0       John       60.0      NaN              70.0\n",
      "1       Mary       75.0     65.0              90.0\n",
      "2       Jack       80.0     90.0               NaN\n",
      "3       Jill        NaN     80.0              75.0\n",
      "8      Sarah       55.0      NaN              80.0\n",
      "9        Sam       70.0     75.0              85.0\n",
      "10     David       80.0     85.0               NaN\n",
      "11  Samantha        NaN     70.0              75.0\n",
      "16      Alex       65.0     75.0              80.0\n",
      "17     Katie       75.0     80.0              85.0\n"
     ]
    }
   ],
   "source": [
    "data=data.drop_duplicates()\n",
    "print(data)"
   ]
  },
  {
   "cell_type": "markdown",
   "metadata": {},
   "source": [
    "#Drop Null Values"
   ]
  },
  {
   "cell_type": "code",
   "execution_count": 7,
   "metadata": {},
   "outputs": [
    {
     "name": "stdout",
     "output_type": "stream",
     "text": [
      "     Name  Chemistry  Physics  Computer Science\n",
      "1    Mary       75.0     65.0              90.0\n",
      "9     Sam       70.0     75.0              85.0\n",
      "16   Alex       65.0     75.0              80.0\n",
      "17  Katie       75.0     80.0              85.0\n"
     ]
    }
   ],
   "source": [
    "#by default it will drop rows with null value\n",
    "data=data.dropna()\n",
    "print(data)"
   ]
  },
  {
   "cell_type": "markdown",
   "metadata": {},
   "source": [
    "#replace Values"
   ]
  },
  {
   "cell_type": "code",
   "execution_count": 8,
   "metadata": {},
   "outputs": [
    {
     "name": "stdout",
     "output_type": "stream",
     "text": [
      "     Name  Chemistry  Physics  Computer Science\n",
      "1    Mary       75.0     60.0              90.0\n",
      "9     Sam       70.0     75.0              85.0\n",
      "16   Alex       60.0     75.0              80.0\n",
      "17  Katie       75.0     80.0              85.0\n"
     ]
    }
   ],
   "source": [
    "data=data.replace(65,60)\n",
    "print(data)"
   ]
  },
  {
   "cell_type": "markdown",
   "metadata": {},
   "source": [
    "#Replace Values with mean"
   ]
  },
  {
   "cell_type": "code",
   "execution_count": 9,
   "metadata": {},
   "outputs": [
    {
     "name": "stdout",
     "output_type": "stream",
     "text": [
      "        Name  Maths  Chemistry  Physics  Geography\n",
      "0       John     45       60.0      NaN       70.0\n",
      "1       Mary     80       75.0     65.0       90.0\n",
      "2       Jack     85       80.0     90.0        NaN\n",
      "3       Jill     70        NaN     80.0       75.0\n",
      "4       John     45       60.0      NaN       70.0\n",
      "5       Mary     80       75.0     65.0       90.0\n",
      "6       Jack     85       80.0     90.0        NaN\n",
      "7       Jill     70        NaN     80.0       75.0\n",
      "8      Sarah     50       55.0      NaN       80.0\n",
      "9        Sam     60       70.0     75.0       85.0\n",
      "10     David     75       80.0     85.0        NaN\n",
      "11  Samantha     90        NaN     70.0       75.0\n",
      "12     Sarah     50       55.0      NaN       80.0\n",
      "13       Sam     60       70.0     75.0       85.0\n",
      "14     David     75       80.0     85.0        NaN\n",
      "15  Samantha     90        NaN     70.0       75.0\n",
      "16      Alex     55       65.0     75.0       80.0\n",
      "17     Katie     70       75.0     80.0       85.0\n",
      "18      Alex     55       65.0     75.0       80.0\n",
      "19     Katie     70       75.0     80.0       85.0\n"
     ]
    }
   ],
   "source": [
    "data=pd.read_csv('Practical2.csv')\n",
    "print(data)"
   ]
  },
  {
   "cell_type": "code",
   "execution_count": 10,
   "metadata": {},
   "outputs": [
    {
     "name": "stdout",
     "output_type": "stream",
     "text": [
      "        Name  Maths  Chemistry  Physics  Geography\n",
      "0       John     45       60.0     77.5       70.0\n",
      "1       Mary     80       75.0     65.0       90.0\n",
      "2       Jack     85       80.0     90.0       80.0\n",
      "3       Jill     70       70.0     80.0       75.0\n",
      "4       John     45       60.0     77.5       70.0\n",
      "5       Mary     80       75.0     65.0       90.0\n",
      "6       Jack     85       80.0     90.0       80.0\n",
      "7       Jill     70       70.0     80.0       75.0\n",
      "8      Sarah     50       55.0     77.5       80.0\n",
      "9        Sam     60       70.0     75.0       85.0\n",
      "10     David     75       80.0     85.0       80.0\n",
      "11  Samantha     90       70.0     70.0       75.0\n",
      "12     Sarah     50       55.0     77.5       80.0\n",
      "13       Sam     60       70.0     75.0       85.0\n",
      "14     David     75       80.0     85.0       80.0\n",
      "15  Samantha     90       70.0     70.0       75.0\n",
      "16      Alex     55       65.0     75.0       80.0\n",
      "17     Katie     70       75.0     80.0       85.0\n",
      "18      Alex     55       65.0     75.0       80.0\n",
      "19     Katie     70       75.0     80.0       85.0\n"
     ]
    }
   ],
   "source": [
    "chem_mean=data['Chemistry'].mean()\n",
    "phy_mean=data['Physics'].mean()\n",
    "geo_mean=data['Geography'].mean()\n",
    "data['Chemistry']=data['Chemistry'].fillna(chem_mean)\n",
    "data['Physics']=data['Physics'].fillna(phy_mean)\n",
    "data['Geography']=data['Geography'].fillna(geo_mean)\n",
    "print(data)"
   ]
  },
  {
   "cell_type": "code",
   "execution_count": null,
   "metadata": {},
   "outputs": [],
   "source": []
  }
 ],
 "metadata": {
  "kernelspec": {
   "display_name": "Python 3 (ipykernel)",
   "language": "python",
   "name": "python3"
  },
  "language_info": {
   "codemirror_mode": {
    "name": "ipython",
    "version": 3
   },
   "file_extension": ".py",
   "mimetype": "text/x-python",
   "name": "python",
   "nbconvert_exporter": "python",
   "pygments_lexer": "ipython3",
   "version": "3.9.13"
  }
 },
 "nbformat": 4,
 "nbformat_minor": 2
}
