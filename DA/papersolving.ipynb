{
 "cells": [
  {
   "cell_type": "code",
   "execution_count": 1,
   "id": "56b1783a",
   "metadata": {},
   "outputs": [],
   "source": [
    "import pandas as pd"
   ]
  },
  {
   "cell_type": "code",
   "execution_count": 2,
   "id": "80fb572c",
   "metadata": {},
   "outputs": [
    {
     "name": "stdout",
     "output_type": "stream",
     "text": [
      "        Name  Maths  Chemistry  Physics  Geography\n",
      "0       John     45       60.0      NaN       70.0\n",
      "1       Mary     80       75.0     65.0       90.0\n",
      "2       Jack     85       80.0     90.0        NaN\n",
      "3       Jill     70        NaN     80.0       75.0\n",
      "4       John     45       60.0      NaN       70.0\n",
      "5       Mary     80       75.0     65.0       90.0\n",
      "6       Jack     85       80.0     90.0        NaN\n",
      "7       Jill     70        NaN     80.0       75.0\n",
      "8      Sarah     50       55.0      NaN       80.0\n",
      "9        Sam     60       70.0     75.0       85.0\n",
      "10     David     75       80.0     85.0        NaN\n",
      "11  Samantha     90        NaN     70.0       75.0\n",
      "12     Sarah     50       55.0      NaN       80.0\n",
      "13       Sam     60       70.0     75.0       85.0\n",
      "14     David     75       80.0     85.0        NaN\n",
      "15  Samantha     90        NaN     70.0       75.0\n",
      "16      Alex     55       65.0     75.0       80.0\n",
      "17     Katie     70       75.0     80.0       85.0\n",
      "18      Alex     55       65.0     75.0       80.0\n",
      "19     Katie     70       75.0     80.0       85.0\n"
     ]
    }
   ],
   "source": [
    "data=pd.read_csv('papsolv.csv')\n",
    "print(data)"
   ]
  },
  {
   "cell_type": "code",
   "execution_count": 3,
   "id": "5a12eb91",
   "metadata": {},
   "outputs": [
    {
     "name": "stdout",
     "output_type": "stream",
     "text": [
      "        Name  Maths  Chemistry  Physics  Geography\n",
      "0       John     45       60.0     77.5       70.0\n",
      "1       Mary     80       75.0     65.0       90.0\n",
      "2       Jack     85       80.0     90.0       80.0\n",
      "3       Jill     70       70.0     80.0       75.0\n",
      "4       John     45       60.0     77.5       70.0\n",
      "5       Mary     80       75.0     65.0       90.0\n",
      "6       Jack     85       80.0     90.0       80.0\n",
      "7       Jill     70       70.0     80.0       75.0\n",
      "8      Sarah     50       55.0     77.5       80.0\n",
      "9        Sam     60       70.0     75.0       85.0\n",
      "10     David     75       80.0     85.0       80.0\n",
      "11  Samantha     90       70.0     70.0       75.0\n",
      "12     Sarah     50       55.0     77.5       80.0\n",
      "13       Sam     60       70.0     75.0       85.0\n",
      "14     David     75       80.0     85.0       80.0\n",
      "15  Samantha     90       70.0     70.0       75.0\n",
      "16      Alex     55       65.0     75.0       80.0\n",
      "17     Katie     70       75.0     80.0       85.0\n",
      "18      Alex     55       65.0     75.0       80.0\n",
      "19     Katie     70       75.0     80.0       85.0\n"
     ]
    }
   ],
   "source": [
    "#finding MEAN of all\n",
    "\n",
    "chem_mean=data['Chemistry'].mean()\n",
    "phy_mean=data['Physics'].mean()\n",
    "geo_mean=data['Geography'].mean()\n",
    "data['Chemistry']=data['Chemistry'].fillna(chem_mean)\n",
    "data['Physics']=data['Physics'].fillna(phy_mean)\n",
    "data['Geography']=data['Geography'].fillna(geo_mean)\n",
    "print(data)"
   ]
  },
  {
   "cell_type": "code",
   "execution_count": 4,
   "id": "79fc9570",
   "metadata": {},
   "outputs": [
    {
     "name": "stdout",
     "output_type": "stream",
     "text": [
      "70.0\n"
     ]
    }
   ],
   "source": [
    "print(chem_mean)\n"
   ]
  },
  {
   "cell_type": "code",
   "execution_count": 5,
   "id": "4255e980",
   "metadata": {},
   "outputs": [
    {
     "name": "stdout",
     "output_type": "stream",
     "text": [
      "70.0\n"
     ]
    }
   ],
   "source": [
    "chem_median=data['Chemistry'].median()\n",
    "print(chem_median)"
   ]
  },
  {
   "cell_type": "code",
   "execution_count": 6,
   "id": "7cab9491",
   "metadata": {},
   "outputs": [
    {
     "name": "stdout",
     "output_type": "stream",
     "text": [
      "0    70.0\n",
      "Name: Chemistry, dtype: float64\n"
     ]
    }
   ],
   "source": [
    "chem_mode=data['Chemistry'].mode()\n",
    "print(chem_mode)"
   ]
  },
  {
   "cell_type": "code",
   "execution_count": 7,
   "id": "d8411fca",
   "metadata": {},
   "outputs": [
    {
     "ename": "NameError",
     "evalue": "name 'np' is not defined",
     "output_type": "error",
     "traceback": [
      "\u001b[1;31m---------------------------------------------------------------------------\u001b[0m",
      "\u001b[1;31mNameError\u001b[0m                                 Traceback (most recent call last)",
      "\u001b[1;32m~\\AppData\\Local\\Temp\\ipykernel_14656\\2207482836.py\u001b[0m in \u001b[0;36m<module>\u001b[1;34m\u001b[0m\n\u001b[1;32m----> 1\u001b[1;33m \u001b[0mstd_dev\u001b[0m \u001b[1;33m=\u001b[0m \u001b[0mnp\u001b[0m\u001b[1;33m.\u001b[0m\u001b[0mstd\u001b[0m\u001b[1;33m(\u001b[0m\u001b[0mdata\u001b[0m\u001b[1;33m)\u001b[0m\u001b[1;33m\u001b[0m\u001b[1;33m\u001b[0m\u001b[0m\n\u001b[0m",
      "\u001b[1;31mNameError\u001b[0m: name 'np' is not defined"
     ]
    }
   ],
   "source": [
    "std_dev = np.std(data)"
   ]
  },
  {
   "cell_type": "code",
   "execution_count": 8,
   "id": "c266e3fd",
   "metadata": {},
   "outputs": [],
   "source": [
    "import numpy as np"
   ]
  },
  {
   "cell_type": "code",
   "execution_count": 9,
   "id": "f5e67753",
   "metadata": {},
   "outputs": [
    {
     "name": "stderr",
     "output_type": "stream",
     "text": [
      "C:\\Users\\Aman Pathan\\anaconda3\\lib\\site-packages\\numpy\\core\\fromnumeric.py:3579: FutureWarning: Dropping of nuisance columns in DataFrame reductions (with 'numeric_only=None') is deprecated; in a future version this will raise TypeError.  Select only valid columns before calling the reduction.\n",
      "  return std(axis=axis, dtype=dtype, out=out, ddof=ddof, **kwargs)\n"
     ]
    }
   ],
   "source": [
    "std_dev = np.std(data)"
   ]
  },
  {
   "cell_type": "code",
   "execution_count": 10,
   "id": "c18238b8",
   "metadata": {},
   "outputs": [
    {
     "name": "stdout",
     "output_type": "stream",
     "text": [
      "Print first 5 records\n"
     ]
    },
    {
     "data": {
      "text/html": [
       "<div>\n",
       "<style scoped>\n",
       "    .dataframe tbody tr th:only-of-type {\n",
       "        vertical-align: middle;\n",
       "    }\n",
       "\n",
       "    .dataframe tbody tr th {\n",
       "        vertical-align: top;\n",
       "    }\n",
       "\n",
       "    .dataframe thead th {\n",
       "        text-align: right;\n",
       "    }\n",
       "</style>\n",
       "<table border=\"1\" class=\"dataframe\">\n",
       "  <thead>\n",
       "    <tr style=\"text-align: right;\">\n",
       "      <th></th>\n",
       "      <th>Name</th>\n",
       "      <th>Maths</th>\n",
       "      <th>Chemistry</th>\n",
       "      <th>Physics</th>\n",
       "      <th>Geography</th>\n",
       "    </tr>\n",
       "  </thead>\n",
       "  <tbody>\n",
       "    <tr>\n",
       "      <th>0</th>\n",
       "      <td>John</td>\n",
       "      <td>45</td>\n",
       "      <td>60.0</td>\n",
       "      <td>77.5</td>\n",
       "      <td>70.0</td>\n",
       "    </tr>\n",
       "    <tr>\n",
       "      <th>1</th>\n",
       "      <td>Mary</td>\n",
       "      <td>80</td>\n",
       "      <td>75.0</td>\n",
       "      <td>65.0</td>\n",
       "      <td>90.0</td>\n",
       "    </tr>\n",
       "    <tr>\n",
       "      <th>2</th>\n",
       "      <td>Jack</td>\n",
       "      <td>85</td>\n",
       "      <td>80.0</td>\n",
       "      <td>90.0</td>\n",
       "      <td>80.0</td>\n",
       "    </tr>\n",
       "    <tr>\n",
       "      <th>3</th>\n",
       "      <td>Jill</td>\n",
       "      <td>70</td>\n",
       "      <td>70.0</td>\n",
       "      <td>80.0</td>\n",
       "      <td>75.0</td>\n",
       "    </tr>\n",
       "    <tr>\n",
       "      <th>4</th>\n",
       "      <td>John</td>\n",
       "      <td>45</td>\n",
       "      <td>60.0</td>\n",
       "      <td>77.5</td>\n",
       "      <td>70.0</td>\n",
       "    </tr>\n",
       "  </tbody>\n",
       "</table>\n",
       "</div>"
      ],
      "text/plain": [
       "   Name  Maths  Chemistry  Physics  Geography\n",
       "0  John     45       60.0     77.5       70.0\n",
       "1  Mary     80       75.0     65.0       90.0\n",
       "2  Jack     85       80.0     90.0       80.0\n",
       "3  Jill     70       70.0     80.0       75.0\n",
       "4  John     45       60.0     77.5       70.0"
      ]
     },
     "execution_count": 10,
     "metadata": {},
     "output_type": "execute_result"
    }
   ],
   "source": [
    "print(\"Print first 5 records\")\n",
    "data.head()\n"
   ]
  },
  {
   "cell_type": "code",
   "execution_count": 11,
   "id": "26372d87",
   "metadata": {},
   "outputs": [
    {
     "name": "stdout",
     "output_type": "stream",
     "text": [
      "Print Last 5 records\n"
     ]
    },
    {
     "data": {
      "text/html": [
       "<div>\n",
       "<style scoped>\n",
       "    .dataframe tbody tr th:only-of-type {\n",
       "        vertical-align: middle;\n",
       "    }\n",
       "\n",
       "    .dataframe tbody tr th {\n",
       "        vertical-align: top;\n",
       "    }\n",
       "\n",
       "    .dataframe thead th {\n",
       "        text-align: right;\n",
       "    }\n",
       "</style>\n",
       "<table border=\"1\" class=\"dataframe\">\n",
       "  <thead>\n",
       "    <tr style=\"text-align: right;\">\n",
       "      <th></th>\n",
       "      <th>Name</th>\n",
       "      <th>Maths</th>\n",
       "      <th>Chemistry</th>\n",
       "      <th>Physics</th>\n",
       "      <th>Geography</th>\n",
       "    </tr>\n",
       "  </thead>\n",
       "  <tbody>\n",
       "    <tr>\n",
       "      <th>15</th>\n",
       "      <td>Samantha</td>\n",
       "      <td>90</td>\n",
       "      <td>70.0</td>\n",
       "      <td>70.0</td>\n",
       "      <td>75.0</td>\n",
       "    </tr>\n",
       "    <tr>\n",
       "      <th>16</th>\n",
       "      <td>Alex</td>\n",
       "      <td>55</td>\n",
       "      <td>65.0</td>\n",
       "      <td>75.0</td>\n",
       "      <td>80.0</td>\n",
       "    </tr>\n",
       "    <tr>\n",
       "      <th>17</th>\n",
       "      <td>Katie</td>\n",
       "      <td>70</td>\n",
       "      <td>75.0</td>\n",
       "      <td>80.0</td>\n",
       "      <td>85.0</td>\n",
       "    </tr>\n",
       "    <tr>\n",
       "      <th>18</th>\n",
       "      <td>Alex</td>\n",
       "      <td>55</td>\n",
       "      <td>65.0</td>\n",
       "      <td>75.0</td>\n",
       "      <td>80.0</td>\n",
       "    </tr>\n",
       "    <tr>\n",
       "      <th>19</th>\n",
       "      <td>Katie</td>\n",
       "      <td>70</td>\n",
       "      <td>75.0</td>\n",
       "      <td>80.0</td>\n",
       "      <td>85.0</td>\n",
       "    </tr>\n",
       "  </tbody>\n",
       "</table>\n",
       "</div>"
      ],
      "text/plain": [
       "        Name  Maths  Chemistry  Physics  Geography\n",
       "15  Samantha     90       70.0     70.0       75.0\n",
       "16      Alex     55       65.0     75.0       80.0\n",
       "17     Katie     70       75.0     80.0       85.0\n",
       "18      Alex     55       65.0     75.0       80.0\n",
       "19     Katie     70       75.0     80.0       85.0"
      ]
     },
     "execution_count": 11,
     "metadata": {},
     "output_type": "execute_result"
    }
   ],
   "source": [
    "print(\"Print Last 5 records\")\n",
    "data.tail()\n"
   ]
  },
  {
   "cell_type": "code",
   "execution_count": 12,
   "id": "fd654901",
   "metadata": {},
   "outputs": [
    {
     "name": "stdout",
     "output_type": "stream",
     "text": [
      "data types of each Columns\n"
     ]
    },
    {
     "data": {
      "text/plain": [
       "Name          object\n",
       "Maths          int64\n",
       "Chemistry    float64\n",
       "Physics      float64\n",
       "Geography    float64\n",
       "dtype: object"
      ]
     },
     "execution_count": 12,
     "metadata": {},
     "output_type": "execute_result"
    }
   ],
   "source": [
    "print(\"data types of each Columns\")\n",
    "data.dtypes\n"
   ]
  },
  {
   "cell_type": "code",
   "execution_count": 13,
   "id": "28930b57",
   "metadata": {},
   "outputs": [
    {
     "name": "stdout",
     "output_type": "stream",
     "text": [
      "Count non-null value of each columns\n"
     ]
    },
    {
     "data": {
      "text/plain": [
       "Name         20\n",
       "Maths        20\n",
       "Chemistry    20\n",
       "Physics      20\n",
       "Geography    20\n",
       "dtype: int64"
      ]
     },
     "execution_count": 13,
     "metadata": {},
     "output_type": "execute_result"
    }
   ],
   "source": [
    "print(\"Count non-null value of each columns\")\n",
    "data.count()"
   ]
  },
  {
   "cell_type": "code",
   "execution_count": 14,
   "id": "12de0c8f",
   "metadata": {},
   "outputs": [
    {
     "name": "stdout",
     "output_type": "stream",
     "text": [
      "     Name  Maths  Chemistry  Physics  Geography\n",
      "0   False  False      False    False      False\n",
      "1   False  False      False    False      False\n",
      "2   False  False      False    False      False\n",
      "3   False  False      False    False      False\n",
      "4   False  False      False    False      False\n",
      "5   False  False      False    False      False\n",
      "6   False  False      False    False      False\n",
      "7   False  False      False    False      False\n",
      "8   False  False      False    False      False\n",
      "9   False  False      False    False      False\n",
      "10  False  False      False    False      False\n",
      "11  False  False      False    False      False\n",
      "12  False  False      False    False      False\n",
      "13  False  False      False    False      False\n",
      "14  False  False      False    False      False\n",
      "15  False  False      False    False      False\n",
      "16  False  False      False    False      False\n",
      "17  False  False      False    False      False\n",
      "18  False  False      False    False      False\n",
      "19  False  False      False    False      False\n"
     ]
    }
   ],
   "source": [
    "print(data.isnull())"
   ]
  },
  {
   "cell_type": "code",
   "execution_count": 15,
   "id": "d465b4f1",
   "metadata": {},
   "outputs": [
    {
     "name": "stdout",
     "output_type": "stream",
     "text": [
      "        Name  Chemistry  Physics  Geography\n",
      "0       John       60.0     77.5       70.0\n",
      "1       Mary       75.0     65.0       90.0\n",
      "2       Jack       80.0     90.0       80.0\n",
      "3       Jill       70.0     80.0       75.0\n",
      "4       John       60.0     77.5       70.0\n",
      "5       Mary       75.0     65.0       90.0\n",
      "6       Jack       80.0     90.0       80.0\n",
      "7       Jill       70.0     80.0       75.0\n",
      "8      Sarah       55.0     77.5       80.0\n",
      "9        Sam       70.0     75.0       85.0\n",
      "10     David       80.0     85.0       80.0\n",
      "11  Samantha       70.0     70.0       75.0\n",
      "12     Sarah       55.0     77.5       80.0\n",
      "13       Sam       70.0     75.0       85.0\n",
      "14     David       80.0     85.0       80.0\n",
      "15  Samantha       70.0     70.0       75.0\n",
      "16      Alex       65.0     75.0       80.0\n",
      "17     Katie       75.0     80.0       85.0\n",
      "18      Alex       65.0     75.0       80.0\n",
      "19     Katie       75.0     80.0       85.0\n"
     ]
    }
   ],
   "source": [
    "data=data.drop('Maths',axis=1)\n",
    "print(data)"
   ]
  },
  {
   "cell_type": "code",
   "execution_count": 16,
   "id": "bd1057c4",
   "metadata": {},
   "outputs": [
    {
     "name": "stdout",
     "output_type": "stream",
     "text": [
      "        Name  inserted  Chemistry  Physics  Geography\n",
      "0       John         0       60.0     77.5       70.0\n",
      "1       Mary         0       75.0     65.0       90.0\n",
      "2       Jack         0       80.0     90.0       80.0\n",
      "3       Jill         0       70.0     80.0       75.0\n",
      "4       John         0       60.0     77.5       70.0\n",
      "5       Mary         0       75.0     65.0       90.0\n",
      "6       Jack         0       80.0     90.0       80.0\n",
      "7       Jill         0       70.0     80.0       75.0\n",
      "8      Sarah         0       55.0     77.5       80.0\n",
      "9        Sam         0       70.0     75.0       85.0\n",
      "10     David         0       80.0     85.0       80.0\n",
      "11  Samantha         0       70.0     70.0       75.0\n",
      "12     Sarah         0       55.0     77.5       80.0\n",
      "13       Sam         0       70.0     75.0       85.0\n",
      "14     David         0       80.0     85.0       80.0\n",
      "15  Samantha         0       70.0     70.0       75.0\n",
      "16      Alex         0       65.0     75.0       80.0\n",
      "17     Katie         0       75.0     80.0       85.0\n",
      "18      Alex         0       65.0     75.0       80.0\n",
      "19     Katie         0       75.0     80.0       85.0\n"
     ]
    }
   ],
   "source": [
    "data.insert(1, 'inserted', 0)\n",
    "print (data)"
   ]
  },
  {
   "cell_type": "code",
   "execution_count": null,
   "id": "ac8aa857",
   "metadata": {},
   "outputs": [],
   "source": []
  }
 ],
 "metadata": {
  "kernelspec": {
   "display_name": "Python 3 (ipykernel)",
   "language": "python",
   "name": "python3"
  },
  "language_info": {
   "codemirror_mode": {
    "name": "ipython",
    "version": 3
   },
   "file_extension": ".py",
   "mimetype": "text/x-python",
   "name": "python",
   "nbconvert_exporter": "python",
   "pygments_lexer": "ipython3",
   "version": "3.9.13"
  }
 },
 "nbformat": 4,
 "nbformat_minor": 5
}
