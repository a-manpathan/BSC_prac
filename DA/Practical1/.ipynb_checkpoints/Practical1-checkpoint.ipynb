{
 "cells": [
  {
   "cell_type": "code",
   "execution_count": 1,
   "metadata": {},
   "outputs": [],
   "source": [
    "import pandas as pd"
   ]
  },
  {
   "cell_type": "code",
   "execution_count": 2,
   "metadata": {},
   "outputs": [
    {
     "name": "stdout",
     "output_type": "stream",
     "text": [
      "    Roll no       Name  Maths  Science  History  English  Social Science\n",
      "0          1     Alice     80       75       85       90              95\n",
      "1          2       Bob     70       80       75       85              90\n",
      "2          3   Charlie     85       90       80       75              70\n",
      "3          4     David     60       65       70       75              80\n",
      "4          5       Eve     90       85       95       80              75\n",
      "5          6     Frank     75       70       80       85              90\n",
      "6          7     Grace     85       80       75       70              65\n",
      "7          8     Henry     80       75       70       65              60\n",
      "8          9     Irene     75       80       85       90              95\n",
      "9         10      Jack     70       75       80       85              90\n",
      "10        11      Kate     85       90       85       90              85\n",
      "11        12      Lucy     60       65       70       75              80\n",
      "12        13      Mike     75       80       85       90              95\n",
      "13        14     Nancy     70       75       80       85              90\n",
      "14        15    Olivia     85       90       85       90              85\n",
      "15        16      Paul     60       65       70       75              80\n",
      "16        17     Quinn     75       80       85       90              95\n",
      "17        18    Rachel     70       75       80       85              90\n",
      "18        19       Sam     85       90       85       90              85\n",
      "19        20       Tom     60       65       70       75              80\n",
      "20        21       Uma     75       80       85       90              95\n",
      "21        22    Victor     70       75       80       85              90\n",
      "22        23     Wendy     85       90       85       90              85\n",
      "23        24    Xavier     60       65       70       75              80\n",
      "24        25      Yara     75       80       85       90              95\n",
      "25        26       Zoe     70       75       80       75              60\n",
      "26        27     Aaron     85       90       85       90              85\n",
      "27        28     Bella     60       65       70       75              80\n",
      "28        29    Carter     75       80       85       90              95\n",
      "29        30    Daniel     70       75       80       85              90\n",
      "30        31     Emily     85       90       85       90              85\n",
      "31        32     Fiona     60       65       70       75              80\n",
      "32        33    George     75       80       85       90              95\n",
      "33        34     Harry     70       75       80       85              90\n",
      "34        35     Isaac     85       90       85       90              85\n",
      "35        36   Jasmine     60       65       70       75              80\n",
      "36        37      Kyle     75       80       85       90              95\n",
      "37        38      Lily     70       75       80       85              90\n",
      "38        39   Matthew     85       90       85       90              85\n",
      "39        40      Nina     60       65       70       75              80\n",
      "40        41      Owen     75       80       85       90              95\n",
      "41        42  Penelope     70       75       80       85              90\n",
      "42        43     Quinn     85       90       85       90              85\n",
      "43        44      Ryan     60       65       70       75              80\n",
      "44        45     Sarah     75       80       85       90              95\n",
      "45        46     Tyler     70       75       80       85              90\n",
      "46        47       Uma     85       90       85       90              85\n",
      "47        48    Victor     60       65       70       75              80\n",
      "48        49     Wendy     75       80       85       90              95\n",
      "49        50    Xavier     70       75       80       85              90\n"
     ]
    }
   ],
   "source": [
    "df=pd.read_csv('Practical1.csv')\n",
    "print(df)"
   ]
  },
  {
   "cell_type": "code",
   "execution_count": 3,
   "metadata": {},
   "outputs": [
    {
     "name": "stdout",
     "output_type": "stream",
     "text": [
      "Maths: 73.4\n",
      "Science: 77.5\n",
      "English: 83.8\n",
      "English: 79.9\n",
      "Social Science: 85.6\n"
     ]
    }
   ],
   "source": [
    "mean_maths=df[\"Maths\"].mean()\n",
    "print(f\"Maths: {mean_maths}\")\n",
    "mean_sci=df[\"Science\"].mean()\n",
    "print(f\"Science: {mean_sci}\")\n",
    "mean_eng=df[\"English\"].mean()\n",
    "print(f\"English: {mean_eng}\")\n",
    "mean_history=df[\"History\"].mean()\n",
    "print(f\"English: {mean_history}\")\n",
    "mean_social=df[\"Social Science\"].mean()\n",
    "print(f\"Social Science: {mean_social}\")"
   ]
  },
  {
   "cell_type": "code",
   "execution_count": 4,
   "metadata": {},
   "outputs": [
    {
     "name": "stdout",
     "output_type": "stream",
     "text": [
      "Maths: 75.0\n",
      "Science: 77.5\n",
      "English: 85.0\n",
      "English: 80.0\n",
      "Social Science: 85.0\n"
     ]
    }
   ],
   "source": [
    "median_maths=df[\"Maths\"].median()\n",
    "print(f\"Maths: {median_maths}\")\n",
    "median_sci=df[\"Science\"].median()\n",
    "print(f\"Science: {median_sci}\")\n",
    "median_eng=df[\"English\"].median()\n",
    "print(f\"English: {median_eng}\")\n",
    "median_history=df[\"History\"].median()\n",
    "print(f\"English: {median_history}\")\n",
    "median_social=df[\"Social Science\"].median()\n",
    "print(f\"Social Science: {median_social}\")"
   ]
  },
  {
   "cell_type": "code",
   "execution_count": 5,
   "metadata": {},
   "outputs": [
    {
     "name": "stdout",
     "output_type": "stream",
     "text": [
      "Maths: 0    70\n",
      "1    75\n",
      "2    85\n",
      "Name: Maths, dtype: int64\n",
      "Science: 0    75\n",
      "1    80\n",
      "Name: Science, dtype: int64\n",
      "English: 0    90\n",
      "Name: English, dtype: int64\n",
      "English: 0    85\n",
      "Name: History, dtype: int64\n",
      "Social Science: 0    90\n",
      "1    95\n",
      "Name: Social Science, dtype: int64\n"
     ]
    }
   ],
   "source": [
    "mode_maths=df[\"Maths\"].mode()\n",
    "print(f\"Maths: {mode_maths}\")\n",
    "mode_sci=df[\"Science\"].mode()\n",
    "print(f\"Science: {mode_sci}\")\n",
    "mode_eng=df[\"English\"].mode()\n",
    "print(f\"English: {mode_eng}\")\n",
    "mode_history=df[\"History\"].mode()\n",
    "print(f\"English: {mode_history}\")\n",
    "mode_social=df[\"Social Science\"].mode()\n",
    "print(f\"Social Science: {mode_social}\")"
   ]
  },
  {
   "cell_type": "code",
   "execution_count": 6,
   "metadata": {},
   "outputs": [
    {
     "name": "stdout",
     "output_type": "stream",
     "text": [
      "Maths: 9.171829096728297\n",
      "Science: 8.704326862109957\n",
      "English : 7.039248568431385\n",
      "History : 6.427777728780941\n",
      "Social Scinece : 8.727156771029298\n"
     ]
    }
   ],
   "source": [
    "std_maths=df[\"Maths\"].std()\n",
    "print(f\"Maths: {std_maths}\")\n",
    "std_sci=df[\"Science\"].std()\n",
    "print(f\"Science: {std_sci}\")\n",
    "std_eng=df[\"English\"].std()\n",
    "print(f\"English : {std_eng}\")\n",
    "std_history=df[\"History\"].std()\n",
    "print(f\"History : {std_history}\")\n",
    "std_social=df[\"Social Science\"].std()\n",
    "print(f\"Social Scinece : {std_social}\")"
   ]
  },
  {
   "cell_type": "code",
   "execution_count": null,
   "metadata": {},
   "outputs": [],
   "source": []
  }
 ],
 "metadata": {
  "kernelspec": {
   "display_name": "Python 3 (ipykernel)",
   "language": "python",
   "name": "python3"
  },
  "language_info": {
   "codemirror_mode": {
    "name": "ipython",
    "version": 3
   },
   "file_extension": ".py",
   "mimetype": "text/x-python",
   "name": "python",
   "nbconvert_exporter": "python",
   "pygments_lexer": "ipython3",
   "version": "3.9.13"
  }
 },
 "nbformat": 4,
 "nbformat_minor": 2
}
