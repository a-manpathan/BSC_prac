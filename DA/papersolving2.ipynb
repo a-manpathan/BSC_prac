{
 "cells": [
  {
   "cell_type": "markdown",
   "id": "edee8649",
   "metadata": {},
   "source": [
    "Question 1 "
   ]
  },
  {
   "cell_type": "code",
   "execution_count": 79,
   "id": "8cb2176c",
   "metadata": {},
   "outputs": [],
   "source": [
    "import pandas as pd\n",
    "import matplotlib.pyplot as pl\n",
    "import numpy as np\n",
    "import seaborn as sns\n",
    "from sklearn.cluster import KMeans"
   ]
  },
  {
   "cell_type": "code",
   "execution_count": 5,
   "id": "44bf42e0",
   "metadata": {},
   "outputs": [],
   "source": [
    "data=pd.read_csv(r'mydata.csv')"
   ]
  },
  {
   "cell_type": "code",
   "execution_count": 3,
   "id": "53b83daa",
   "metadata": {},
   "outputs": [
    {
     "name": "stdout",
     "output_type": "stream",
     "text": [
      "       name  physics  chemistry  maths  biology\n",
      "0  Abhishek       23         45     67       38\n",
      "1       Ben       73         94     23       45\n",
      "2     Chris       56         34     46       66\n",
      "3    Dipesh       45         33     35       25\n",
      "4   Emanuel       72         53     73       84\n",
      "5    Farooq       66         35     63       36\n"
     ]
    }
   ],
   "source": [
    "print (data)"
   ]
  },
  {
   "cell_type": "code",
   "execution_count": 6,
   "id": "cb1e2b50",
   "metadata": {},
   "outputs": [
    {
     "name": "stdout",
     "output_type": "stream",
     "text": [
      "        name  physics  chemistry  maths  biology\n",
      "0   Abhishek     23.0         45   67.0     38.0\n",
      "1        Ben     73.0         94   23.0     45.0\n",
      "2      Chris     56.0         34   46.0     66.0\n",
      "3     Dipesh     45.0         33   35.0     25.0\n",
      "4    Emanuel     72.0         53   73.0     84.0\n",
      "5     Farooq     66.0         35   63.0     36.0\n",
      "6       aman     44.0         53    NaN     35.0\n",
      "7     sahil      23.0         45   66.0      NaN\n",
      "8    sankalp      NaN         34   55.0     22.0\n",
      "9     Farooq     66.0         35   63.0     36.0\n",
      "10       abc     34.0         45   43.0     56.0\n",
      "11      abhi     21.0         57   89.0     43.0\n",
      "12      reet     34.0         67   45.0     65.0\n",
      "13     raman     24.0         23   45.0     33.0\n",
      "14       raj     34.0         55   43.0     21.0\n",
      "15      ryan     89.0         56   76.0     78.0\n",
      "16    rakeem     76.0         78   65.0     75.0\n",
      "17     snoop     56.0         56   34.0     43.0\n",
      "18    eminem     66.0         55   56.0     87.0\n"
     ]
    }
   ],
   "source": [
    "print(data)\n"
   ]
  },
  {
   "cell_type": "code",
   "execution_count": 13,
   "id": "4c5961bf",
   "metadata": {},
   "outputs": [
    {
     "name": "stdout",
     "output_type": "stream",
     "text": [
      "50.1578947368421\n",
      "50.111111111111114\n",
      "54.833333333333336\n",
      "49.333333333333336\n"
     ]
    }
   ],
   "source": [
    "chem_mean=data['chemistry'].mean()\n",
    "phys_mean=data['physics'].mean()\n",
    "maths_mean=data['maths'].mean()\n",
    "bio_mean=data['biology'].mean()\n",
    "overall_sum=chem_mean+phys_mean+maths_mean+bio_mean\n",
    "print(chem_mean)\n",
    "print(phys_mean)\n",
    "print(maths_mean)\n",
    "print(bio_mean)\n"
   ]
  },
  {
   "cell_type": "code",
   "execution_count": 16,
   "id": "5d63bcb3",
   "metadata": {},
   "outputs": [
    {
     "name": "stdout",
     "output_type": "stream",
     "text": [
      "53.0 50.5\n"
     ]
    }
   ],
   "source": [
    "chem_median=data['chemistry'].median()\n",
    "phy_median=data['physics'].median()\n",
    "print(chem_median , phy_median)"
   ]
  },
  {
   "cell_type": "code",
   "execution_count": 17,
   "id": "12818dba",
   "metadata": {},
   "outputs": [
    {
     "name": "stderr",
     "output_type": "stream",
     "text": [
      "C:\\Users\\Aman Pathan\\AppData\\Local\\Temp\\ipykernel_14304\\2723740006.py:1: FutureWarning: Dropping of nuisance columns in DataFrame reductions (with 'numeric_only=None') is deprecated; in a future version this will raise TypeError.  Select only valid columns before calling the reduction.\n",
      "  data.std()\n"
     ]
    },
    {
     "data": {
      "text/plain": [
       "physics      21.493881\n",
       "chemistry    17.082360\n",
       "maths        16.888040\n",
       "biology      21.510599\n",
       "dtype: float64"
      ]
     },
     "execution_count": 17,
     "metadata": {},
     "output_type": "execute_result"
    }
   ],
   "source": [
    "data.std()"
   ]
  },
  {
   "cell_type": "code",
   "execution_count": 19,
   "id": "660c2ff3",
   "metadata": {},
   "outputs": [
    {
     "name": "stderr",
     "output_type": "stream",
     "text": [
      "C:\\Users\\Aman Pathan\\AppData\\Local\\Temp\\ipykernel_14304\\2723740006.py:1: FutureWarning: Dropping of nuisance columns in DataFrame reductions (with 'numeric_only=None') is deprecated; in a future version this will raise TypeError.  Select only valid columns before calling the reduction.\n",
      "  data.std()\n"
     ]
    },
    {
     "data": {
      "text/plain": [
       "physics      21.493881\n",
       "chemistry    17.082360\n",
       "maths        16.888040\n",
       "biology      21.510599\n",
       "dtype: float64"
      ]
     },
     "execution_count": 19,
     "metadata": {},
     "output_type": "execute_result"
    }
   ],
   "source": [
    "data.std()"
   ]
  },
  {
   "cell_type": "code",
   "execution_count": 20,
   "id": "2f688382",
   "metadata": {},
   "outputs": [
    {
     "data": {
      "text/html": [
       "<div>\n",
       "<style scoped>\n",
       "    .dataframe tbody tr th:only-of-type {\n",
       "        vertical-align: middle;\n",
       "    }\n",
       "\n",
       "    .dataframe tbody tr th {\n",
       "        vertical-align: top;\n",
       "    }\n",
       "\n",
       "    .dataframe thead th {\n",
       "        text-align: right;\n",
       "    }\n",
       "</style>\n",
       "<table border=\"1\" class=\"dataframe\">\n",
       "  <thead>\n",
       "    <tr style=\"text-align: right;\">\n",
       "      <th></th>\n",
       "      <th>name</th>\n",
       "      <th>physics</th>\n",
       "      <th>chemistry</th>\n",
       "      <th>maths</th>\n",
       "      <th>biology</th>\n",
       "    </tr>\n",
       "  </thead>\n",
       "  <tbody>\n",
       "    <tr>\n",
       "      <th>14</th>\n",
       "      <td>raj</td>\n",
       "      <td>34.0</td>\n",
       "      <td>55</td>\n",
       "      <td>43.0</td>\n",
       "      <td>21.0</td>\n",
       "    </tr>\n",
       "    <tr>\n",
       "      <th>15</th>\n",
       "      <td>ryan</td>\n",
       "      <td>89.0</td>\n",
       "      <td>56</td>\n",
       "      <td>76.0</td>\n",
       "      <td>78.0</td>\n",
       "    </tr>\n",
       "    <tr>\n",
       "      <th>16</th>\n",
       "      <td>rakeem</td>\n",
       "      <td>76.0</td>\n",
       "      <td>78</td>\n",
       "      <td>65.0</td>\n",
       "      <td>75.0</td>\n",
       "    </tr>\n",
       "    <tr>\n",
       "      <th>17</th>\n",
       "      <td>snoop</td>\n",
       "      <td>56.0</td>\n",
       "      <td>56</td>\n",
       "      <td>34.0</td>\n",
       "      <td>43.0</td>\n",
       "    </tr>\n",
       "    <tr>\n",
       "      <th>18</th>\n",
       "      <td>eminem</td>\n",
       "      <td>66.0</td>\n",
       "      <td>55</td>\n",
       "      <td>56.0</td>\n",
       "      <td>87.0</td>\n",
       "    </tr>\n",
       "  </tbody>\n",
       "</table>\n",
       "</div>"
      ],
      "text/plain": [
       "      name  physics  chemistry  maths  biology\n",
       "14     raj     34.0         55   43.0     21.0\n",
       "15    ryan     89.0         56   76.0     78.0\n",
       "16  rakeem     76.0         78   65.0     75.0\n",
       "17   snoop     56.0         56   34.0     43.0\n",
       "18  eminem     66.0         55   56.0     87.0"
      ]
     },
     "execution_count": 20,
     "metadata": {},
     "output_type": "execute_result"
    }
   ],
   "source": [
    "data.tail()"
   ]
  },
  {
   "cell_type": "code",
   "execution_count": 21,
   "id": "aaf15bd6",
   "metadata": {},
   "outputs": [
    {
     "data": {
      "text/html": [
       "<div>\n",
       "<style scoped>\n",
       "    .dataframe tbody tr th:only-of-type {\n",
       "        vertical-align: middle;\n",
       "    }\n",
       "\n",
       "    .dataframe tbody tr th {\n",
       "        vertical-align: top;\n",
       "    }\n",
       "\n",
       "    .dataframe thead th {\n",
       "        text-align: right;\n",
       "    }\n",
       "</style>\n",
       "<table border=\"1\" class=\"dataframe\">\n",
       "  <thead>\n",
       "    <tr style=\"text-align: right;\">\n",
       "      <th></th>\n",
       "      <th>name</th>\n",
       "      <th>physics</th>\n",
       "      <th>chemistry</th>\n",
       "      <th>maths</th>\n",
       "      <th>biology</th>\n",
       "    </tr>\n",
       "  </thead>\n",
       "  <tbody>\n",
       "    <tr>\n",
       "      <th>0</th>\n",
       "      <td>Abhishek</td>\n",
       "      <td>23.0</td>\n",
       "      <td>45</td>\n",
       "      <td>67.0</td>\n",
       "      <td>38.0</td>\n",
       "    </tr>\n",
       "    <tr>\n",
       "      <th>1</th>\n",
       "      <td>Ben</td>\n",
       "      <td>73.0</td>\n",
       "      <td>94</td>\n",
       "      <td>23.0</td>\n",
       "      <td>45.0</td>\n",
       "    </tr>\n",
       "    <tr>\n",
       "      <th>2</th>\n",
       "      <td>Chris</td>\n",
       "      <td>56.0</td>\n",
       "      <td>34</td>\n",
       "      <td>46.0</td>\n",
       "      <td>66.0</td>\n",
       "    </tr>\n",
       "    <tr>\n",
       "      <th>3</th>\n",
       "      <td>Dipesh</td>\n",
       "      <td>45.0</td>\n",
       "      <td>33</td>\n",
       "      <td>35.0</td>\n",
       "      <td>25.0</td>\n",
       "    </tr>\n",
       "    <tr>\n",
       "      <th>4</th>\n",
       "      <td>Emanuel</td>\n",
       "      <td>72.0</td>\n",
       "      <td>53</td>\n",
       "      <td>73.0</td>\n",
       "      <td>84.0</td>\n",
       "    </tr>\n",
       "  </tbody>\n",
       "</table>\n",
       "</div>"
      ],
      "text/plain": [
       "       name  physics  chemistry  maths  biology\n",
       "0  Abhishek     23.0         45   67.0     38.0\n",
       "1       Ben     73.0         94   23.0     45.0\n",
       "2     Chris     56.0         34   46.0     66.0\n",
       "3    Dipesh     45.0         33   35.0     25.0\n",
       "4   Emanuel     72.0         53   73.0     84.0"
      ]
     },
     "execution_count": 21,
     "metadata": {},
     "output_type": "execute_result"
    }
   ],
   "source": [
    "data.head()"
   ]
  },
  {
   "cell_type": "code",
   "execution_count": 22,
   "id": "06b67ded",
   "metadata": {},
   "outputs": [
    {
     "data": {
      "text/plain": [
       "name         19\n",
       "physics      18\n",
       "chemistry    19\n",
       "maths        18\n",
       "biology      18\n",
       "dtype: int64"
      ]
     },
     "execution_count": 22,
     "metadata": {},
     "output_type": "execute_result"
    }
   ],
   "source": [
    "data.count()"
   ]
  },
  {
   "cell_type": "code",
   "execution_count": 24,
   "id": "3760e9c8",
   "metadata": {},
   "outputs": [
    {
     "name": "stdout",
     "output_type": "stream",
     "text": [
      "(19, 5)\n"
     ]
    }
   ],
   "source": [
    "shape = data.shape\n",
    "print(shape)"
   ]
  },
  {
   "cell_type": "code",
   "execution_count": 27,
   "id": "0127ea4c",
   "metadata": {},
   "outputs": [
    {
     "data": {
      "text/plain": [
       "<bound method DataFrame.isnull of         name  physics  chemistry  maths  biology\n",
       "0   Abhishek     23.0         45   67.0     38.0\n",
       "1        Ben     73.0         94   23.0     45.0\n",
       "2      Chris     56.0         34   46.0     66.0\n",
       "3     Dipesh     45.0         33   35.0     25.0\n",
       "4    Emanuel     72.0         53   73.0     84.0\n",
       "5     Farooq     66.0         35   63.0     36.0\n",
       "6       aman     44.0         53    NaN     35.0\n",
       "7     sahil      23.0         45   66.0      NaN\n",
       "8    sankalp      NaN         34   55.0     22.0\n",
       "9     Farooq     66.0         35   63.0     36.0\n",
       "10       abc     34.0         45   43.0     56.0\n",
       "11      abhi     21.0         57   89.0     43.0\n",
       "12      reet     34.0         67   45.0     65.0\n",
       "13     raman     24.0         23   45.0     33.0\n",
       "14       raj     34.0         55   43.0     21.0\n",
       "15      ryan     89.0         56   76.0     78.0\n",
       "16    rakeem     76.0         78   65.0     75.0\n",
       "17     snoop     56.0         56   34.0     43.0\n",
       "18    eminem     66.0         55   56.0     87.0>"
      ]
     },
     "execution_count": 27,
     "metadata": {},
     "output_type": "execute_result"
    }
   ],
   "source": [
    "data.isnull"
   ]
  },
  {
   "cell_type": "code",
   "execution_count": 26,
   "id": "913c81f9",
   "metadata": {},
   "outputs": [
    {
     "data": {
      "text/plain": [
       "name          object\n",
       "physics      float64\n",
       "chemistry      int64\n",
       "maths        float64\n",
       "biology      float64\n",
       "dtype: object"
      ]
     },
     "execution_count": 26,
     "metadata": {},
     "output_type": "execute_result"
    }
   ],
   "source": [
    "data.dtypes"
   ]
  },
  {
   "cell_type": "code",
   "execution_count": 28,
   "id": "5581c9f6",
   "metadata": {},
   "outputs": [
    {
     "name": "stdout",
     "output_type": "stream",
     "text": [
      "     name  physics  chemistry  maths  biology\n",
      "0   False    False      False  False    False\n",
      "1   False    False      False  False    False\n",
      "2   False    False      False  False    False\n",
      "3   False    False      False  False    False\n",
      "4   False    False      False  False    False\n",
      "5   False    False      False  False    False\n",
      "6   False    False      False   True    False\n",
      "7   False    False      False  False     True\n",
      "8   False     True      False  False    False\n",
      "9   False    False      False  False    False\n",
      "10  False    False      False  False    False\n",
      "11  False    False      False  False    False\n",
      "12  False    False      False  False    False\n",
      "13  False    False      False  False    False\n",
      "14  False    False      False  False    False\n",
      "15  False    False      False  False    False\n",
      "16  False    False      False  False    False\n",
      "17  False    False      False  False    False\n",
      "18  False    False      False  False    False\n"
     ]
    }
   ],
   "source": [
    "print(data.isnull())"
   ]
  },
  {
   "cell_type": "code",
   "execution_count": 29,
   "id": "f47eb873",
   "metadata": {},
   "outputs": [
    {
     "name": "stdout",
     "output_type": "stream",
     "text": [
      "        name  physics  psycology  chemistry  maths  biology\n",
      "0   Abhishek     23.0         40         45   67.0     38.0\n",
      "1        Ben     73.0         40         94   23.0     45.0\n",
      "2      Chris     56.0         40         34   46.0     66.0\n",
      "3     Dipesh     45.0         40         33   35.0     25.0\n",
      "4    Emanuel     72.0         40         53   73.0     84.0\n",
      "5     Farooq     66.0         40         35   63.0     36.0\n",
      "6       aman     44.0         40         53    NaN     35.0\n",
      "7     sahil      23.0         40         45   66.0      NaN\n",
      "8    sankalp      NaN         40         34   55.0     22.0\n",
      "9     Farooq     66.0         40         35   63.0     36.0\n",
      "10       abc     34.0         40         45   43.0     56.0\n",
      "11      abhi     21.0         40         57   89.0     43.0\n",
      "12      reet     34.0         40         67   45.0     65.0\n",
      "13     raman     24.0         40         23   45.0     33.0\n",
      "14       raj     34.0         40         55   43.0     21.0\n",
      "15      ryan     89.0         40         56   76.0     78.0\n",
      "16    rakeem     76.0         40         78   65.0     75.0\n",
      "17     snoop     56.0         40         56   34.0     43.0\n",
      "18    eminem     66.0         40         55   56.0     87.0\n"
     ]
    }
   ],
   "source": [
    "data.insert(2, 'psycology', 40)\n",
    "print (data)"
   ]
  },
  {
   "cell_type": "code",
   "execution_count": 30,
   "id": "35baf4b5",
   "metadata": {
    "scrolled": true
   },
   "outputs": [
    {
     "name": "stdout",
     "output_type": "stream",
     "text": [
      "        name  physics  psycology  chemistry  biology\n",
      "0   Abhishek     23.0         40         45     38.0\n",
      "1        Ben     73.0         40         94     45.0\n",
      "2      Chris     56.0         40         34     66.0\n",
      "3     Dipesh     45.0         40         33     25.0\n",
      "4    Emanuel     72.0         40         53     84.0\n",
      "5     Farooq     66.0         40         35     36.0\n",
      "6       aman     44.0         40         53     35.0\n",
      "7     sahil      23.0         40         45      NaN\n",
      "8    sankalp      NaN         40         34     22.0\n",
      "9     Farooq     66.0         40         35     36.0\n",
      "10       abc     34.0         40         45     56.0\n",
      "11      abhi     21.0         40         57     43.0\n",
      "12      reet     34.0         40         67     65.0\n",
      "13     raman     24.0         40         23     33.0\n",
      "14       raj     34.0         40         55     21.0\n",
      "15      ryan     89.0         40         56     78.0\n",
      "16    rakeem     76.0         40         78     75.0\n",
      "17     snoop     56.0         40         56     43.0\n",
      "18    eminem     66.0         40         55     87.0\n"
     ]
    }
   ],
   "source": [
    "data=data.drop('maths',axis=1)\n",
    "print(data)"
   ]
  },
  {
   "cell_type": "code",
   "execution_count": 33,
   "id": "a0818dd2",
   "metadata": {},
   "outputs": [
    {
     "name": "stdout",
     "output_type": "stream",
     "text": [
      "       name  physics  psycology  chemistry  biology\n",
      "1       Ben     73.0         40         94     45.0\n",
      "2     Chris     56.0         40         34     66.0\n",
      "3    Dipesh     45.0         40         33     25.0\n",
      "4   Emanuel     72.0         40         53     84.0\n",
      "5    Farooq     66.0         40         35     36.0\n",
      "6      aman     44.0         40         53     35.0\n",
      "7    sahil      23.0         40         45      NaN\n",
      "8   sankalp      NaN         40         34     22.0\n",
      "9    Farooq     66.0         40         35     36.0\n",
      "10      abc     34.0         40         45     56.0\n",
      "11     abhi     21.0         40         57     43.0\n",
      "12     reet     34.0         40         67     65.0\n",
      "13    raman     24.0         40         23     33.0\n",
      "14      raj     34.0         40         55     21.0\n",
      "15     ryan     89.0         40         56     78.0\n",
      "16   rakeem     76.0         40         78     75.0\n",
      "17    snoop     56.0         40         56     43.0\n",
      "18   eminem     66.0         40         55     87.0\n"
     ]
    }
   ],
   "source": [
    "data = data.drop(labels=0, axis=0)\n",
    "print(data)"
   ]
  },
  {
   "cell_type": "code",
   "execution_count": 40,
   "id": "bc641f16",
   "metadata": {},
   "outputs": [
    {
     "ename": "NameError",
     "evalue": "name 'Davi' is not defined",
     "output_type": "error",
     "traceback": [
      "\u001b[1;31m---------------------------------------------------------------------------\u001b[0m",
      "\u001b[1;31mNameError\u001b[0m                                 Traceback (most recent call last)",
      "\u001b[1;32m~\\AppData\\Local\\Temp\\ipykernel_14304\\2545198462.py\u001b[0m in \u001b[0;36m<module>\u001b[1;34m\u001b[0m\n\u001b[1;32m----> 1\u001b[1;33m \u001b[0mdf2\u001b[0m \u001b[1;33m=\u001b[0m \u001b[1;33m{\u001b[0m\u001b[1;34m'name'\u001b[0m\u001b[1;33m:\u001b[0m \u001b[0mDavi\u001b[0m\u001b[1;33m,\u001b[0m \u001b[1;34m'physics'\u001b[0m\u001b[1;33m:\u001b[0m \u001b[1;36m40\u001b[0m\u001b[1;33m}\u001b[0m\u001b[1;33m\u001b[0m\u001b[1;33m\u001b[0m\u001b[0m\n\u001b[0m\u001b[0;32m      2\u001b[0m \u001b[0mresult\u001b[0m \u001b[1;33m=\u001b[0m \u001b[0mpd\u001b[0m\u001b[1;33m.\u001b[0m\u001b[0mconcat\u001b[0m\u001b[1;33m(\u001b[0m\u001b[1;33m[\u001b[0m\u001b[0mdata\u001b[0m\u001b[1;33m,\u001b[0m \u001b[0mdf2\u001b[0m\u001b[1;33m]\u001b[0m\u001b[1;33m,\u001b[0m \u001b[0maxis\u001b[0m\u001b[1;33m=\u001b[0m\u001b[1;36m0\u001b[0m\u001b[1;33m)\u001b[0m\u001b[1;33m\u001b[0m\u001b[1;33m\u001b[0m\u001b[0m\n",
      "\u001b[1;31mNameError\u001b[0m: name 'Davi' is not defined"
     ]
    }
   ],
   "source": [
    "df2 = {'name': 'Davi', 'physics': 40}\n",
    "result = pd.concat([data, df2], axis=0)\n"
   ]
  },
  {
   "cell_type": "code",
   "execution_count": 42,
   "id": "eb95e6ba",
   "metadata": {},
   "outputs": [
    {
     "name": "stdout",
     "output_type": "stream",
     "text": [
      "       name  physics  psycology  chemistry  biology\n",
      "0       Ben     73.0     1000.0       94.0     45.0\n",
      "1     Chris     56.0     1000.0       34.0     66.0\n",
      "2    Dipesh     45.0     1000.0       33.0     25.0\n",
      "3   Emanuel     72.0     1000.0       53.0     84.0\n",
      "4    Farooq     66.0     1000.0       35.0     36.0\n",
      "5      aman     44.0     1000.0       53.0     35.0\n",
      "6    sahil      23.0     1000.0       45.0      NaN\n",
      "7   sankalp      NaN     1000.0       34.0     22.0\n",
      "8    Farooq     66.0     1000.0       35.0     36.0\n",
      "9       abc     34.0     1000.0       45.0     56.0\n",
      "10     abhi     21.0     1000.0       57.0     43.0\n",
      "11     reet     34.0     1000.0       67.0     65.0\n",
      "12    raman     24.0     1000.0       23.0     33.0\n",
      "13      raj     34.0     1000.0       55.0     21.0\n",
      "14     ryan     89.0     1000.0       56.0     78.0\n",
      "15   rakeem     76.0     1000.0       78.0     75.0\n",
      "16    snoop     56.0     1000.0       56.0     43.0\n",
      "17   eminem     66.0     1000.0       55.0     87.0\n",
      "18      Amy     89.0       93.0        NaN      NaN\n",
      "19    David   1000.0        NaN        NaN      NaN\n"
     ]
    }
   ],
   "source": [
    "data=data.replace(40,1000)\n",
    "print(data)"
   ]
  },
  {
   "cell_type": "code",
   "execution_count": 44,
   "id": "2c3293d4",
   "metadata": {},
   "outputs": [
    {
     "name": "stdout",
     "output_type": "stream",
     "text": [
      "        name  physics  chemistry  maths  biology  biology.1\n",
      "0   Abhishek     23.0         45   67.0     38.0       38.0\n",
      "1        Ben     73.0         94   23.0     45.0       45.0\n",
      "2      Chris     56.0         34   46.0     66.0       66.0\n",
      "3     Dipesh     45.0         33   35.0     25.0       25.0\n",
      "4    Emanuel     72.0         53   73.0     84.0       84.0\n",
      "5     Farooq     66.0         35   63.0     36.0       36.0\n",
      "6       aman     44.0         53    NaN     35.0       35.0\n",
      "7     sahil      23.0         45   66.0      NaN        NaN\n",
      "8    sankalp      NaN         34   55.0     22.0       22.0\n",
      "9     Farooq     66.0         35   63.0     36.0       36.0\n",
      "10       abc     34.0         45   43.0     56.0       56.0\n",
      "11      abhi     21.0         57   89.0     43.0       43.0\n",
      "12      reet     34.0         67   45.0     65.0       65.0\n",
      "13     raman     24.0         23   45.0     33.0       33.0\n",
      "14       raj     34.0         55   43.0     21.0       21.0\n",
      "15      ryan     89.0         56   76.0     78.0       78.0\n",
      "16    rakeem     76.0         78   65.0     75.0       75.0\n",
      "17     snoop     56.0         56   34.0     43.0       43.0\n",
      "18    eminem     66.0         55   56.0     87.0       87.0\n"
     ]
    }
   ],
   "source": [
    "data=pd.read_csv(r'mydata.csv')\n",
    "print(data)"
   ]
  },
  {
   "cell_type": "code",
   "execution_count": 48,
   "id": "56bd933f",
   "metadata": {},
   "outputs": [
    {
     "name": "stdout",
     "output_type": "stream",
     "text": [
      "        name  physics  chemistry  maths  biology  biology.1\n",
      "0   Abhishek     23.0         45   67.0     38.0       38.0\n",
      "1        Ben     73.0         94   23.0     45.0       45.0\n",
      "2      Chris     56.0         34   46.0     66.0       66.0\n",
      "3     Dipesh     45.0         33   35.0     25.0       25.0\n",
      "4    Emanuel     72.0         53   73.0     84.0       84.0\n",
      "5     Farooq     66.0         35   63.0     36.0       36.0\n",
      "6       aman     44.0         53    NaN     35.0       35.0\n",
      "7     sahil      23.0         45   66.0      NaN        NaN\n",
      "8    sankalp      NaN         34   55.0     22.0       22.0\n",
      "10       abc     34.0         45   43.0     56.0       56.0\n",
      "11      abhi     21.0         57   89.0     43.0       43.0\n",
      "12      reet     34.0         67   45.0     65.0       65.0\n",
      "13     raman     24.0         23   45.0     33.0       33.0\n",
      "14       raj     34.0         55   43.0     21.0       21.0\n",
      "15      ryan     89.0         56   76.0     78.0       78.0\n",
      "16    rakeem     76.0         78   65.0     75.0       75.0\n",
      "18    eminem     66.0         55   56.0     87.0       87.0\n"
     ]
    }
   ],
   "source": [
    "data=data.drop_duplicates(subset=['biology.1'])\n",
    "print(data)"
   ]
  },
  {
   "cell_type": "code",
   "execution_count": 55,
   "id": "1cb2d9fa",
   "metadata": {},
   "outputs": [
    {
     "name": "stdout",
     "output_type": "stream",
     "text": [
      "        name  physics  chemistry  maths\n",
      "0   Abhishek     23.0         45   67.0\n",
      "1        Ben     73.0         94   23.0\n",
      "2      Chris     56.0         34   46.0\n",
      "3     Dipesh     45.0         33   35.0\n",
      "4    Emanuel     72.0         53   73.0\n",
      "5     Farooq     66.0         35   63.0\n",
      "6       aman     44.0         53    NaN\n",
      "7     sahil      23.0         45   66.0\n",
      "8    sankalp      NaN         34   55.0\n",
      "10       abc     34.0         45   43.0\n",
      "11      abhi     21.0         57   89.0\n",
      "12      reet     34.0         67   45.0\n",
      "13     raman     24.0         23   45.0\n",
      "14       raj     34.0         55   43.0\n",
      "15      ryan     89.0         56   76.0\n",
      "16    rakeem     76.0         78   65.0\n",
      "18    eminem     66.0         55   56.0\n"
     ]
    }
   ],
   "source": [
    "data=data.drop('biology',axis=1)\n",
    "print(data)"
   ]
  },
  {
   "cell_type": "code",
   "execution_count": 65,
   "id": "f4e6b9f7",
   "metadata": {},
   "outputs": [
    {
     "name": "stdout",
     "output_type": "stream",
     "text": [
      "        name    cs  chemistry  maths\n",
      "0   Abhishek  23.0         45   67.0\n",
      "1        Ben  73.0         94   23.0\n",
      "2      Chris  56.0         34   46.0\n",
      "3     Dipesh  45.0         33   35.0\n",
      "4    Emanuel  72.0         53   73.0\n",
      "5     Farooq  66.0         35   63.0\n",
      "6       aman  44.0         53    NaN\n",
      "7     sahil   23.0         45   66.0\n",
      "8    sankalp   NaN         34   55.0\n",
      "10       abc  34.0         45   43.0\n",
      "11      abhi  21.0         57   89.0\n",
      "12      reet  34.0         67   45.0\n",
      "13     raman  24.0         23   45.0\n",
      "14       raj  34.0         55   43.0\n",
      "15      ryan  89.0         56   76.0\n",
      "16    rakeem  76.0         78   65.0\n",
      "18    eminem  66.0         55   56.0\n"
     ]
    }
   ],
   "source": [
    "data=data.rename(columns={'physics':'cs'})\n",
    "print(data)\n",
    "#df = df.rename(columns={'A': 'new_col_name'})"
   ]
  },
  {
   "cell_type": "code",
   "execution_count": 71,
   "id": "43a48097",
   "metadata": {},
   "outputs": [
    {
     "data": {
      "image/png": "[encoded data removed]",
      "text/plain": [
       "<Figure size 640x480 with 1 Axes>"
      ]
     },
     "metadata": {},
     "output_type": "display_data"
    }
   ],
   "source": [
    "pl.show()\n",
    "\n",
    "pl.hist(data['maths'],bins = [25, 50, 75])\n",
    " \n",
    "# Show plot\n",
    "pl.show()"
   ]
  },
  {
   "cell_type": "code",
   "execution_count": 76,
   "id": "12fae6d1",
   "metadata": {},
   "outputs": [
    {
     "data": {
      "image/png": "[encoded data removed]",
      "text/plain": [
       "<Figure size 1500x600 with 1 Axes>"
      ]
     },
     "metadata": {},
     "output_type": "display_data"
    }
   ],
   "source": [
    "fig, ax = pl.subplots(figsize=(15,6))\n",
    "ax.scatter(data['name'], data['cs'])\n",
    "ax.set_xlabel('name')\n",
    "ax.set_ylabel('cs')\n",
    "pl.show()"
   ]
  },
  {
   "cell_type": "code",
   "execution_count": 86,
   "id": "66cbd8e2",
   "metadata": {},
   "outputs": [
    {
     "name": "stdout",
     "output_type": "stream",
     "text": [
      "       name  physics  chemistry  maths  biology  biology.1\n",
      "0  Abhishek       23         45     67       38         38\n",
      "1       Ben       73         94     23       45         45\n",
      "2     Chris       56         34     46       66         66\n",
      "3    Dipesh       45         33     35       25         25\n",
      "4   Emanuel       72         53     73       84         84\n",
      "5    Farooq       66         35     63       36         36\n",
      "6      aman       44         53     34       35         35\n",
      "7    sahil        23         45     66       66         12\n",
      "8   sankalp       34         34     55       22         22\n"
     ]
    }
   ],
   "source": [
    "df = pd.read_csv(r'kmeans.csv')\n",
    "print(df)"
   ]
  },
  {
   "cell_type": "code",
   "execution_count": 87,
   "id": "4816abe2",
   "metadata": {},
   "outputs": [
    {
     "name": "stderr",
     "output_type": "stream",
     "text": [
      "C:\\Users\\Aman Pathan\\anaconda3\\lib\\site-packages\\sklearn\\cluster\\_kmeans.py:870: FutureWarning: The default value of `n_init` will change from 10 to 'auto' in 1.4. Set the value of `n_init` explicitly to suppress the warning\n",
      "  warnings.warn(\n",
      "C:\\Users\\Aman Pathan\\anaconda3\\lib\\site-packages\\sklearn\\cluster\\_kmeans.py:1382: UserWarning: KMeans is known to have a memory leak on Windows with MKL, when there are less chunks than available threads. You can avoid it by setting the environment variable OMP_NUM_THREADS=1.\n",
      "  warnings.warn(\n"
     ]
    },
    {
     "name": "stdout",
     "output_type": "stream",
     "text": [
      "       name  physics  chemistry  maths  biology  biology.1  cluster\n",
      "0  Abhishek       23         45     67       38         38        3\n",
      "1       Ben       73         94     23       45         45        2\n",
      "2     Chris       56         34     46       66         66        1\n",
      "3    Dipesh       45         33     35       25         25        0\n",
      "4   Emanuel       72         53     73       84         84        1\n",
      "5    Farooq       66         35     63       36         36        0\n",
      "6      aman       44         53     34       35         35        0\n",
      "7    sahil        23         45     66       66         12        3\n",
      "8   sankalp       34         34     55       22         22        0\n"
     ]
    }
   ],
   "source": [
    "df = pd.read_csv(r'kmeans.csv')\n",
    "\n",
    "# select the features for clustering\n",
    "X = df[['physics', 'chemistry', 'maths', 'biology']]\n",
    "\n",
    "# set the number of clusters\n",
    "k = 4\n",
    "\n",
    "# create a k-means clustering model\n",
    "kmeans = KMeans(n_clusters=k)\n",
    "\n",
    "# fit the model to the dataset\n",
    "kmeans.fit(X)\n",
    "\n",
    "# add the cluster labels to the dataframe\n",
    "df['cluster'] = kmeans.labels_\n",
    "\n",
    "# print the resulting dataframe\n",
    "print(df)"
   ]
  },
  {
   "cell_type": "code",
   "execution_count": 89,
   "id": "5af077f0",
   "metadata": {},
   "outputs": [
    {
     "name": "stderr",
     "output_type": "stream",
     "text": [
      "C:\\Users\\Aman Pathan\\anaconda3\\lib\\site-packages\\sklearn\\cluster\\_kmeans.py:870: FutureWarning: The default value of `n_init` will change from 10 to 'auto' in 1.4. Set the value of `n_init` explicitly to suppress the warning\n",
      "  warnings.warn(\n",
      "C:\\Users\\Aman Pathan\\anaconda3\\lib\\site-packages\\sklearn\\cluster\\_kmeans.py:1382: UserWarning: KMeans is known to have a memory leak on Windows with MKL, when there are less chunks than available threads. You can avoid it by setting the environment variable OMP_NUM_THREADS=1.\n",
      "  warnings.warn(\n"
     ]
    },
    {
     "data": {
      "image/png": "[encoded data removed]",
      "text/plain": [
       "<Figure size 640x480 with 1 Axes>"
      ]
     },
     "metadata": {},
     "output_type": "display_data"
    },
    {
     "name": "stdout",
     "output_type": "stream",
     "text": [
      "The centroid values are [[80.66666667 21.33333333]\n",
      " [31.64285714 44.64285714]]\n"
     ]
    }
   ],
   "source": [
    "x1=[89,43,36,36,95,10,66,34,38,20]\n",
    "y1=[21,46,3,35,67,95,53,72,58,10]\n",
    "x2=[26,29,48,64,6,5,36,66,72,40]\n",
    "y2=[26,34,90,33,38,20,56,2,47,15]\n",
    "# Fit kmeans model to the data\n",
    "k=KMeans(n_clusters=2).fit(list(zip(x1+y1,x2+y2)))\n",
    "centroids=k.cluster_centers_\n",
    "pl.scatter(x1,y1,c=\"yellow\",marker=\"s\",s=25)\n",
    "pl.scatter(x2,y2,c=\"blue\",marker=\"s\",s=25)\n",
    "pl.scatter(centroids[:,0],centroids[:,1],linewidth=1,edgecolor=\"black\",c=\"darkgreen\",marker=\"o\",s=50)\n",
    "pl.xlabel(\"X-AXIS\")\n",
    "pl.ylabel(\"Y-AXIS\")\n",
    "pl.show()\n",
    "print(f\"The centroid values are {centroids}\")"
   ]
  }
 ],
 "metadata": {
  "kernelspec": {
   "display_name": "Python 3 (ipykernel)",
   "language": "python",
   "name": "python3"
  },
  "language_info": {
   "codemirror_mode": {
    "name": "ipython",
    "version": 3
   },
   "file_extension": ".py",
   "mimetype": "text/x-python",
   "name": "python",
   "nbconvert_exporter": "python",
   "pygments_lexer": "ipython3",
   "version": "3.9.13"
  }
 },
 "nbformat": 4,
 "nbformat_minor": 5
}
