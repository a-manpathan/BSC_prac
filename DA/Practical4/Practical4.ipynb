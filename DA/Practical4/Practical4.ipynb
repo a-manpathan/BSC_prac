{
 "cells": [
  {
   "attachments": {},
   "cell_type": "markdown",
   "metadata": {},
   "source": [
    "# Combining Data from multiple sources"
   ]
  },
  {
   "cell_type": "code",
   "execution_count": 3,
   "metadata": {},
   "outputs": [],
   "source": [
    "import pandas as pd"
   ]
  },
  {
   "cell_type": "code",
   "execution_count": 6,
   "metadata": {},
   "outputs": [
    {
     "name": "stdout",
     "output_type": "stream",
     "text": [
      "       Name  Roll no   Physics  Maths  CS  Roll no\n",
      "0     Omkar       1.0       32     33  34      NaN\n",
      "1    Pranay       2.0       22     23  23      NaN\n",
      "2     Rajat       3.0       22     22  24      NaN\n",
      "3     Sahil       4.0       22     22  33      NaN\n",
      "4   Sankalp       NaN       30     23  33      6.0\n",
      "5    Tanmay       NaN       31     23  34      7.0\n",
      "6    Vishnu       NaN       32     24  33      8.0\n",
      "7  Yeshwant       NaN       33     25  32      9.0\n"
     ]
    }
   ],
   "source": [
    "data1=pd.read_csv('Book1.csv')\n",
    "data2=pd.read_csv('Book2.csv')\n",
    "data=pd.concat([data1,data2],ignore_index=True)\n",
    "print(data)"
   ]
  }
 ],
 "metadata": {
  "kernelspec": {
   "display_name": "Python 3",
   "language": "python",
   "name": "python3"
  },
  "language_info": {
   "codemirror_mode": {
    "name": "ipython",
    "version": 3
   },
   "file_extension": ".py",
   "mimetype": "text/x-python",
   "name": "python",
   "nbconvert_exporter": "python",
   "pygments_lexer": "ipython3",
   "version": "3.10.9"
  },
  "orig_nbformat": 4
 },
 "nbformat": 4,
 "nbformat_minor": 2
}
